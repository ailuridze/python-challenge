{
 "cells": [
  {
   "cell_type": "code",
   "execution_count": 1,
   "id": "65164ba4-d1c6-4a48-b800-28dc916570fe",
   "metadata": {},
   "outputs": [
    {
     "name": "stdout",
     "output_type": "stream",
     "text": [
      "\n",
      "Financial Analysis\n",
      "------------------\n",
      "Total Months:  86\n",
      "Total: $ 38382578\n",
      "Average Change:  $ -2315.12\n",
      "Greatest Increase in Profits:  Feb-2012 ($ 1926159 )\n",
      "Greatest Decrease in Profits:  Sep-2013 ($ -2196167 )\n"
     ]
    }
   ],
   "source": [
    "from pathlib import Path\n",
    "import csv\n",
    "\n",
    "\n",
    "# print and navigate to the correct folder. Optional - if the path neede\n",
    "# print(f\"Current Working Directory: {Path.cwd()}\")\n",
    "rel_path = Path(\"./budget_data.csv\")\n",
    "#csvpath = Path(r\"C:\\Users\\iluri\\Desktop\\______Desktop_FinTech_2023\\Week_02\\HW-Ch_02\\Master\\PyBank\\budget_data.csv\")\n",
    "\n",
    "# create lists corresponding to each column in the csv file. \n",
    "months = []\n",
    "results = []\n",
    "\n",
    "# create variables\n",
    "progress = 0                          # this is to calculate the difference from month to month\n",
    "total_net_profit = 0                  # accumulate the progress/diferance\n",
    "total_change = 0                      # accumulate the total income and loss\n",
    "average_change = 0\n",
    "\n",
    "min_delta = 0                         # keep record of the biggest loss\n",
    "max_delta = 0                         # keep record or the biggest profit\n",
    "min_date_index = 0                    # keep record of the position in the list for the biggest loss \n",
    "max_date_index = 0                    # keep record of the position in the list for the biggest profit\n",
    "\n",
    "\n",
    "# open the data file\n",
    "with open(rel_path, 'r') as csvfile:\n",
    "    csvreader = csv.reader(csvfile, delimiter=',')\n",
    "    \n",
    "    header = next(csvreader) # consideration for the header\n",
    "\n",
    "        \n",
    "    # use the for loop to read (AND keep record of) each row of data after the header\n",
    "    for row in csvreader:\n",
    "        result = int(row[1])            # results value. Make sure the read information is in the numerical format\n",
    "        month = row[0]     # day value\n",
    "        results.append(result)     # write the LIST for Results\n",
    "        months.append(month)     # write the LIST of which days\n",
    "        total_net_profit += result\n",
    "\n",
    "\n",
    "for i in range(0, len(results)-1):\n",
    "    progress = results[i+1] - results[i]     # this is how the financial performance changed\n",
    "    #print(progress)\n",
    "    total_change += progress\n",
    "    if  progress < min_delta:     # check if this was the worst month\n",
    "        min_delta = progress     # if yes update the minimum\n",
    "        min_date_index = i + 1\n",
    "    elif progress > max_delta:     # check if this was the best month\n",
    "        max_delta = progress     # if yes, update the maximum\n",
    "        max_date_index = i + 1\n",
    "        \n",
    "average_change = (total_change) / (len(results) - 1)\n",
    "average_change = round(average_change, 2)\n",
    "# begin the  output\n",
    "print()\n",
    "print(\"Financial Analysis\")\n",
    "print(\"------------------\")\n",
    "print(\"Total Months: \", len(results))\n",
    "print(\"Total: $\", total_net_profit)\n",
    "print (\"Average Change: \", \"$\", average_change)\n",
    "print (\"Greatest Increase in Profits: \", months[max_date_index], \"($\", max_delta, \")\")\n",
    "print (\"Greatest Decrease in Profits: \", months[min_date_index], \"($\", min_delta, \")\")"
   ]
  },
  {
   "cell_type": "code",
   "execution_count": null,
   "id": "2dc05f15-d7fd-4b95-b069-ad1519f35404",
   "metadata": {},
   "outputs": [],
   "source": []
  }
 ],
 "metadata": {
  "kernelspec": {
   "display_name": "Python 3 (ipykernel)",
   "language": "python",
   "name": "python3"
  },
  "language_info": {
   "codemirror_mode": {
    "name": "ipython",
    "version": 3
   },
   "file_extension": ".py",
   "mimetype": "text/x-python",
   "name": "python",
   "nbconvert_exporter": "python",
   "pygments_lexer": "ipython3",
   "version": "3.11.5"
  }
 },
 "nbformat": 4,
 "nbformat_minor": 5
}
