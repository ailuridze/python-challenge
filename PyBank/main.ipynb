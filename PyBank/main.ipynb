{
 "cells": [
  {
   "cell_type": "code",
   "execution_count": 2,
   "id": "65164ba4-d1c6-4a48-b800-28dc916570fe",
   "metadata": {},
   "outputs": [],
   "source": [
    "### PyBank ###\n",
    "\n",
    "from pathlib import Path\n",
    "import csv # csv reader and csv writer\n",
    "\n",
    "rel_path = Path(\"./budget_data.csv\")   # indicate starting data file"
   ]
  },
  {
   "cell_type": "code",
   "execution_count": null,
   "id": "0812aba8-277a-44d9-8570-164ce3e805bd",
   "metadata": {},
   "outputs": [],
   "source": []
  },
  {
   "cell_type": "code",
   "execution_count": null,
   "id": "b26e26a9-6936-46c7-9806-ced7b299597d",
   "metadata": {},
   "outputs": [],
   "source": []
  }
 ],
 "metadata": {
  "kernelspec": {
   "display_name": "Python 3 (ipykernel)",
   "language": "python",
   "name": "python3"
  },
  "language_info": {
   "codemirror_mode": {
    "name": "ipython",
    "version": 3
   },
   "file_extension": ".py",
   "mimetype": "text/x-python",
   "name": "python",
   "nbconvert_exporter": "python",
   "pygments_lexer": "ipython3",
   "version": "3.11.5"
  }
 },
 "nbformat": 4,
 "nbformat_minor": 5
}
