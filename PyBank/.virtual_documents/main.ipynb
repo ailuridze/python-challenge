### PyBank ###

from pathlib import Path
import csv # csv reader and csv writer

rel_path = Path("./budget_data.csv")   # indicate starting data file






