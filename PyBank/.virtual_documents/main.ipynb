### PyBank ###

# Import the pathlib and csv library
from pathlib import Path
import csv # csv reader and csv writer

# indicate the starting data file with relative path
rel_path = Path("./budget_data.csv")   




# open the data file for reading
with open(rel_path, 'r') as csvfile:
    csvreader =csv.reader(csvfile)
    header = next(csvreader)     # account for the header in the file


# declare the variables for operation and output
days = []     # the Date column
results = []      # the Profit/loss column

progress = 0     # the change in day to day Profit/Loss column
total_net_profit = 0
total change = 0
average change = 0



