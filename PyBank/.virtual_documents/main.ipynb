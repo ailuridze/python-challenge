from pathlib import Path
import csv


# print and navigate to the correct folder. Optional - if the path neede
# print(f"Current Working Directory: {Path.cwd()}")
rel_path = Path("./budget_data.csv")
#csvpath = Path(r"C:\Users\iluri\Desktop\______Desktop_FinTech_2023\Week_02\HW-Ch_02\Master\PyBank\budget_data.csv")

# create lists corresponding to each column in the csv file. 
months = []
results = []

# create variables
progress = 0                          # this is to calculate the difference from month to month
total_net_profit = 0                  # accumulate the progress/diferance
total_change = 0                      # accumulate the total income and loss
average_change = 0

min_delta = 0                         # keep record of the biggest loss
max_delta = 0                         # keep record or the biggest profit
min_date_index = 0                    # keep record of the position in the list for the biggest loss 
max_date_index = 0                    # keep record of the position in the list for the biggest profit


# open the data file
with open(rel_path, 'r') as csvfile:
    csvreader = csv.reader(csvfile, delimiter=',')
    
    header = next(csvreader) # consideration for the header

        
    # use the for loop to read (AND keep record of) each row of data after the header
    for row in csvreader:
        result = int(row[1])            # results value. Make sure the read information is in the numerical format
        month = row[0]     # day value
        results.append(result)     # write the LIST for Results
        months.append(month)     # write the LIST of which days
        total_net_profit += result


for i in range(0, len(results)-1):
    progress = results[i+1] - results[i]     # this is how the financial performance changed
    #print(progress)
    total_change += progress
    if  progress < min_delta:     # check if this was the worst month
        min_delta = progress     # if yes update the minimum
        min_date_index = i + 1
    elif progress > max_delta:     # check if this was the best month
        max_delta = progress     # if yes, update the maximum
        max_date_index = i + 1
        
average_change = (total_change) / (len(results) - 1)
average_change = round(average_change, 2)
# begin the  output
print()
print("Financial Analysis")
print("------------------")
print("Total Months: ", len(results))
print("Total: $", total_net_profit)
print ("Average Change: ", "$", average_change)
print ("Greatest Increase in Profits: ", months[max_date_index], "($", max_delta, ")")
print ("Greatest Decrease in Profits: ", months[min_date_index], "($", min_delta, ")")



